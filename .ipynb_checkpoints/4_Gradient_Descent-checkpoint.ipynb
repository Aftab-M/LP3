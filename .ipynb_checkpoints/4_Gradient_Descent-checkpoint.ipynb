{
 "cells": [
  {
   "cell_type": "code",
   "execution_count": 1,
   "id": "11a5ac35-6588-4337-a399-895767e6a6b9",
   "metadata": {},
   "outputs": [],
   "source": [
    "current_x = 2\n",
    "\n",
    "rate = 0.01\n",
    "\n",
    "precision = 0.000001\n",
    "\n",
    "delta_x = 1\n",
    "max_iterations = 10000\n",
    "iteration_counter = 0\n",
    "\n",
    "\n"
   ]
  },
  {
   "cell_type": "code",
   "execution_count": 2,
   "id": "642195e3-63b0-4816-938a-20cdd191f9d6",
   "metadata": {},
   "outputs": [],
   "source": [
    "def slope(x):\n",
    "    return( 2 * (x + 3) )\n",
    "\n",
    "def value_y(x):\n",
    "    return( (x+3) ** 2 )\n",
    "\n",
    "x = []\n",
    "y = []\n",
    "\n",
    "x.append(current_x)\n",
    "y.append(value_y(current_x))\n"
   ]
  },
  {
   "cell_type": "code",
   "execution_count": null,
   "id": "ab3c8711-b793-48ef-addd-aafd51b358b2",
   "metadata": {},
   "outputs": [],
   "source": [
    "while delta_x > precision and iteration_counter < max_iterations:\n",
    "    previous_x = current_x\n",
    "    current_x = previous_x - rate * slope(previous_x)\n",
    "    x.append(current_x)\n",
    "    y.append(value_y(current_x))\n",
    "\n",
    "    delta_x = abs( previous_x - current_x )\n",
    "    print(f\"Iteration {iteration_counter+1}\")\n",
    "    iteration_counter += 1\n",
    "    print(f\"X = {current_x}\")\n",
    "\n",
    "print(f\"Local Minima occurs at : {current_x}\")"
   ]
  }
 ],
 "metadata": {
  "kernelspec": {
   "display_name": "Python 3 (ipykernel)",
   "language": "python",
   "name": "python3"
  },
  "language_info": {
   "codemirror_mode": {
    "name": "ipython",
    "version": 3
   },
   "file_extension": ".py",
   "mimetype": "text/x-python",
   "name": "python",
   "nbconvert_exporter": "python",
   "pygments_lexer": "ipython3",
   "version": "3.12.2"
  }
 },
 "nbformat": 4,
 "nbformat_minor": 5
}
